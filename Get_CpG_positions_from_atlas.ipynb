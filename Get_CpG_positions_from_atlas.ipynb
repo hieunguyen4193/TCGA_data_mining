{
 "cells": [
  {
   "cell_type": "code",
   "execution_count": 16,
   "id": "fb509b16-30b8-4065-bcde-56d73916efe4",
   "metadata": {},
   "outputs": [],
   "source": [
    "import pandas as pd\n",
    "import numpy as np\n",
    "\n",
    "import matplotlib.pyplot as plt\n",
    "import seaborn as sns\n",
    "import pyfaidx\n",
    "from tqdm import tqdm\n",
    "import pathlib\n",
    "import os\n",
    "import re\n",
    "\n",
    "def get_refseq(path_to_all_fa, chrom, start, end):\n",
    "    \n",
    "    refseq = pyfaidx.Fasta(os.path.join(path_to_all_fa, \"chr{}.fa\".format(chrom)))\n",
    "    return(str.upper(refseq.get_seq(name = \"chr{}\".format(chrom), start = start, end = end).seq))\n",
    "    \n",
    "atlas = pd.read_excel(\"Supplementary_table_1_TSMA.xlsx\")\n",
    "\n",
    "path_to_all_fa = \"/media/hieunguyen/HNSD_mini/data/resources/hg19\""
   ]
  },
  {
   "cell_type": "code",
   "execution_count": 17,
   "id": "6acfb1a5-4688-46e1-a4fc-b8a8fe9c3797",
   "metadata": {},
   "outputs": [],
   "source": [
    "atlas_regions = atlas[\"Region_name\"].unique()"
   ]
  },
  {
   "cell_type": "code",
   "execution_count": 18,
   "id": "2f7af028-a240-4a65-8a29-d1b1952e3498",
   "metadata": {},
   "outputs": [
    {
     "name": "stderr",
     "output_type": "stream",
     "text": [
      "100%|██████████████████████████████████████| 2945/2945 [00:24<00:00, 121.11it/s]\n"
     ]
    }
   ],
   "source": [
    "df = pd.DataFrame()\n",
    "for region in tqdm(atlas_regions):\n",
    "    region_chrom = region.split(\"_\")[0]\n",
    "    region_start = int(region.split(\"_\")[1])\n",
    "    region_end = int(region.split(\"_\")[2])\n",
    "    refseq_at_cluster = get_refseq(path_to_all_fa = path_to_all_fa, \n",
    "                                        chrom = region_chrom, \n",
    "                                        start = region_start, \n",
    "                                        end = region_end + 1)\n",
    "    all_cpg_in_cluster = [m.start(0) for m in re.finditer(\"CG\", refseq_at_cluster)]\n",
    "    cpg_coords = [item + region_start for item in all_cpg_in_cluster]\n",
    "    tmpdf = pd.DataFrame(data = cpg_coords, columns = [\"pos\"])\n",
    "    tmpdf[\"chrom\"] = region_chrom\n",
    "    tmpdf[\"region\"] = region\n",
    "    df = pd.concat([df, tmpdf], axis = 0)\n",
    "    "
   ]
  },
  {
   "cell_type": "code",
   "execution_count": 21,
   "id": "3f43ca98-dd53-4fbf-9f4c-26168b8e2e2c",
   "metadata": {},
   "outputs": [],
   "source": [
    "df.to_csv(\"atlas_cpg.csv\")"
   ]
  }
 ],
 "metadata": {
  "kernelspec": {
   "display_name": "Python 3 (ipykernel)",
   "language": "python",
   "name": "python3"
  },
  "language_info": {
   "codemirror_mode": {
    "name": "ipython",
    "version": 3
   },
   "file_extension": ".py",
   "mimetype": "text/x-python",
   "name": "python",
   "nbconvert_exporter": "python",
   "pygments_lexer": "ipython3",
   "version": "3.12.2"
  }
 },
 "nbformat": 4,
 "nbformat_minor": 5
}
