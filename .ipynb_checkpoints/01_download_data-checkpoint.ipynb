{
 "cells": [
  {
   "cell_type": "code",
   "execution_count": 1,
   "id": "05f4ba77-942f-4439-9530-06eb70104470",
   "metadata": {
    "scrolled": true
   },
   "outputs": [],
   "source": [
    "# import pandas as pd\n",
    "# import pathlib\n",
    "# import os\n",
    "\n",
    "# raw_datadir = \"/media/hieunguyen/HNHD01/TCGA_Vi\"\n",
    "# infodir = os.path.join(raw_datadir, \"info\", \"TCGA_database_DMR\")\n",
    "\n",
    "# gdc_client = '/media/hieunguyen/HNSD01/gdc-client'\n",
    "# main_downloaddir = os.path.join(raw_datadir, \"Download_files\")\n",
    "# all_groups = [item for item in pathlib.Path(os.path.join(infodir)).glob(\"*\")]\n",
    "# for mainpath in all_groups:\n",
    "#     group_name = mainpath.name\n",
    "#     all_normal_manifest = [item for item in pathlib.Path(mainpath).glob(\"*Normal*450K*.txt\")]\n",
    "#     all_tumor_manifest = [item for item in pathlib.Path(mainpath).glob(\"*Tumor*450K*.txt\")]\n",
    "#     print(all_normal_manifest)\n",
    "#     print(all_tumor_manifest)\n",
    "#     downloaddir_tumor = os.path.join(main_downloaddir, group_name, \"Tumor\")\n",
    "#     downloaddir_normal = os.path.join(main_downloaddir, group_name, \"Normal\")\n",
    "#     os.system(\"mkdir -p {}\".format(downloaddir_tumor))\n",
    "#     os.system(\"mkdir -p {}\".format(downloaddir_normal))\n",
    "#     for file in all_tumor_manifest + all_normal_manifest:\n",
    "#         print(\"Downloading file from manifest {}\".format(file.name))\n",
    "#         if file in all_tumor_manifest:\n",
    "#             tmp_downloaddir = downloaddir_tumor\n",
    "#         else:\n",
    "#             tmp_downloaddir = downloaddir_normal\n",
    "#         os.system(\"{} download --manifest {} --dir {}\".format(gdc_client, str(file), tmp_downloaddir))"
   ]
  },
  {
   "cell_type": "code",
   "execution_count": 2,
   "id": "0b3c016d",
   "metadata": {},
   "outputs": [],
   "source": [
    "# import os\n",
    "# gdc_client = '/media/hieunguyen/HNSD01/gdc-client'\n",
    "# file = \"/media/hieunguyen/HNSD01/Downloads/gdc_manifest.2024-06-11.idat_only.txt\"\n",
    "# downloaddir = \"/media/hieunguyen/GSHD_HN01/idat_TCGA\"\n",
    "# os.system(\"{} download --manifest {} --dir {}\".format(gdc_client, str(file), downloaddir))"
   ]
  },
  {
   "cell_type": "code",
   "execution_count": 4,
   "id": "47436ca2-0e5c-4e42-a8d2-1c0e8498546a",
   "metadata": {
    "scrolled": true
   },
   "outputs": [
    {
     "name": "stdout",
     "output_type": "stream",
     "text": [
      "\u001b[31mERROR: \u001b[0mAn unexpected error has occurred during normal operation of the client. Please report the following exception to GDC support <support@nci-gdc.datacommons.io>.\n",
      "\u001b[31mERROR: \u001b[0mUnable to write to download to directory '/media/hieunguyen/HNHD01/TCGA_all_idat/20240619/normal': [Errno 2] No such file or directory: '/media/hieunguyen/HNHD01/TCGA_all_idat/20240619/normal/tmp3k18rw8s'. This error likely occurred because the program was launched from (or specified to download to) a protected directory. If you are running this executable from an archive (*.zip, *.tar.gz, etc.) then extracting it from the archive might solve this problem. Otherwise, please see documentation on how to change/specify directory.\n",
      "Traceback (most recent call last):\n",
      "  File \"gdc_client-1.6.1-py3.7.egg/gdc_client/parcel/client.py\", line 73, in raise_for_write_permissions\n",
      "  File \"tempfile.py\", line 547, in NamedTemporaryFile\n",
      "  File \"tempfile.py\", line 258, in _mkstemp_inner\n",
      "FileNotFoundError: [Errno 2] No such file or directory: '/media/hieunguyen/HNHD01/TCGA_all_idat/20240619/normal/tmp3k18rw8s'\n",
      "\n",
      "During handling of the above exception, another exception occurred:\n",
      "\n",
      "Traceback (most recent call last):\n",
      "  File \"gdc-client\", line 103, in <module>\n",
      "  File \"gdc_client-1.6.1-py3.7.egg/gdc_client/download/parser.py\", line 115, in download\n",
      "  File \"gdc_client-1.6.1-py3.7.egg/gdc_client/parcel/client.py\", line 126, in download_files\n",
      "  File \"gdc_client-1.6.1-py3.7.egg/gdc_client/parcel/client.py\", line 86, in raise_for_write_permissions\n",
      "OSError: Unable to write to download to directory '/media/hieunguyen/HNHD01/TCGA_all_idat/20240619/normal': [Errno 2] No such file or directory: '/media/hieunguyen/HNHD01/TCGA_all_idat/20240619/normal/tmp3k18rw8s'. This error likely occurred because the program was launched from (or specified to download to) a protected directory. If you are running this executable from an archive (*.zip, *.tar.gz, etc.) then extracting it from the archive might solve this problem. Otherwise, please see documentation on how to change/specify directory.\n",
      "\u001b[31mERROR: \u001b[0mExiting\n"
     ]
    },
    {
     "name": "stderr",
     "output_type": "stream",
     "text": [
      "cat: Head_and_Neck: No such file or directory\n",
      "cat: normal: No such file or directory\n"
     ]
    },
    {
     "name": "stdout",
     "output_type": "stream",
     "text": [
      "\u001b[31mERROR: \u001b[0mAn unexpected error has occurred during normal operation of the client. Please report the following exception to GDC support <support@nci-gdc.datacommons.io>.\n",
      "\u001b[31mERROR: \u001b[0mUnable to write to download to directory '/media/hieunguyen/HNHD01/TCGA_all_idat/20240619/tumor': [Errno 2] No such file or directory: '/media/hieunguyen/HNHD01/TCGA_all_idat/20240619/tumor/tmp0sygqosr'. This error likely occurred because the program was launched from (or specified to download to) a protected directory. If you are running this executable from an archive (*.zip, *.tar.gz, etc.) then extracting it from the archive might solve this problem. Otherwise, please see documentation on how to change/specify directory.\n",
      "Traceback (most recent call last):\n",
      "  File \"gdc_client-1.6.1-py3.7.egg/gdc_client/parcel/client.py\", line 73, in raise_for_write_permissions\n",
      "  File \"tempfile.py\", line 547, in NamedTemporaryFile\n",
      "  File \"tempfile.py\", line 258, in _mkstemp_inner\n",
      "FileNotFoundError: [Errno 2] No such file or directory: '/media/hieunguyen/HNHD01/TCGA_all_idat/20240619/tumor/tmp0sygqosr'\n",
      "\n",
      "During handling of the above exception, another exception occurred:\n",
      "\n",
      "Traceback (most recent call last):\n",
      "  File \"gdc-client\", line 103, in <module>\n",
      "  File \"gdc_client-1.6.1-py3.7.egg/gdc_client/download/parser.py\", line 115, in download\n",
      "  File \"gdc_client-1.6.1-py3.7.egg/gdc_client/parcel/client.py\", line 126, in download_files\n",
      "  File \"gdc_client-1.6.1-py3.7.egg/gdc_client/parcel/client.py\", line 86, in raise_for_write_permissions\n",
      "OSError: Unable to write to download to directory '/media/hieunguyen/HNHD01/TCGA_all_idat/20240619/tumor': [Errno 2] No such file or directory: '/media/hieunguyen/HNHD01/TCGA_all_idat/20240619/tumor/tmp0sygqosr'. This error likely occurred because the program was launched from (or specified to download to) a protected directory. If you are running this executable from an archive (*.zip, *.tar.gz, etc.) then extracting it from the archive might solve this problem. Otherwise, please see documentation on how to change/specify directory.\n",
      "\u001b[31mERROR: \u001b[0mExiting\n"
     ]
    },
    {
     "name": "stderr",
     "output_type": "stream",
     "text": [
      "cat: Head_and_Neck: No such file or directory\n",
      "cat: tumor: No such file or directory\n"
     ]
    },
    {
     "name": "stdout",
     "output_type": "stream",
     "text": [
      "\u001b[31mERROR: \u001b[0mAn unexpected error has occurred during normal operation of the client. Please report the following exception to GDC support <support@nci-gdc.datacommons.io>.\n",
      "\u001b[31mERROR: \u001b[0mUnable to write to download to directory '/media/hieunguyen/HNHD01/TCGA_all_idat/20240619/normal': [Errno 2] No such file or directory: '/media/hieunguyen/HNHD01/TCGA_all_idat/20240619/normal/tmpw7e2wk80'. This error likely occurred because the program was launched from (or specified to download to) a protected directory. If you are running this executable from an archive (*.zip, *.tar.gz, etc.) then extracting it from the archive might solve this problem. Otherwise, please see documentation on how to change/specify directory.\n",
      "Traceback (most recent call last):\n",
      "  File \"gdc_client-1.6.1-py3.7.egg/gdc_client/parcel/client.py\", line 73, in raise_for_write_permissions\n",
      "  File \"tempfile.py\", line 547, in NamedTemporaryFile\n",
      "  File \"tempfile.py\", line 258, in _mkstemp_inner\n",
      "FileNotFoundError: [Errno 2] No such file or directory: '/media/hieunguyen/HNHD01/TCGA_all_idat/20240619/normal/tmpw7e2wk80'\n",
      "\n",
      "During handling of the above exception, another exception occurred:\n",
      "\n",
      "Traceback (most recent call last):\n",
      "  File \"gdc-client\", line 103, in <module>\n",
      "  File \"gdc_client-1.6.1-py3.7.egg/gdc_client/download/parser.py\", line 115, in download\n",
      "  File \"gdc_client-1.6.1-py3.7.egg/gdc_client/parcel/client.py\", line 126, in download_files\n",
      "  File \"gdc_client-1.6.1-py3.7.egg/gdc_client/parcel/client.py\", line 86, in raise_for_write_permissions\n",
      "OSError: Unable to write to download to directory '/media/hieunguyen/HNHD01/TCGA_all_idat/20240619/normal': [Errno 2] No such file or directory: '/media/hieunguyen/HNHD01/TCGA_all_idat/20240619/normal/tmpw7e2wk80'. This error likely occurred because the program was launched from (or specified to download to) a protected directory. If you are running this executable from an archive (*.zip, *.tar.gz, etc.) then extracting it from the archive might solve this problem. Otherwise, please see documentation on how to change/specify directory.\n",
      "\u001b[31mERROR: \u001b[0mExiting\n"
     ]
    },
    {
     "name": "stderr",
     "output_type": "stream",
     "text": [
      "cat: Liver: No such file or directory\n",
      "cat: normal: No such file or directory\n"
     ]
    },
    {
     "name": "stdout",
     "output_type": "stream",
     "text": [
      "\u001b[31mERROR: \u001b[0mAn unexpected error has occurred during normal operation of the client. Please report the following exception to GDC support <support@nci-gdc.datacommons.io>.\n",
      "\u001b[31mERROR: \u001b[0mUnable to write to download to directory '/media/hieunguyen/HNHD01/TCGA_all_idat/20240619/tumor': [Errno 2] No such file or directory: '/media/hieunguyen/HNHD01/TCGA_all_idat/20240619/tumor/tmpxrz2z8pz'. This error likely occurred because the program was launched from (or specified to download to) a protected directory. If you are running this executable from an archive (*.zip, *.tar.gz, etc.) then extracting it from the archive might solve this problem. Otherwise, please see documentation on how to change/specify directory.\n",
      "Traceback (most recent call last):\n",
      "  File \"gdc_client-1.6.1-py3.7.egg/gdc_client/parcel/client.py\", line 73, in raise_for_write_permissions\n",
      "  File \"tempfile.py\", line 547, in NamedTemporaryFile\n",
      "  File \"tempfile.py\", line 258, in _mkstemp_inner\n",
      "FileNotFoundError: [Errno 2] No such file or directory: '/media/hieunguyen/HNHD01/TCGA_all_idat/20240619/tumor/tmpxrz2z8pz'\n",
      "\n",
      "During handling of the above exception, another exception occurred:\n",
      "\n",
      "Traceback (most recent call last):\n",
      "  File \"gdc-client\", line 103, in <module>\n",
      "  File \"gdc_client-1.6.1-py3.7.egg/gdc_client/download/parser.py\", line 115, in download\n",
      "  File \"gdc_client-1.6.1-py3.7.egg/gdc_client/parcel/client.py\", line 126, in download_files\n",
      "  File \"gdc_client-1.6.1-py3.7.egg/gdc_client/parcel/client.py\", line 86, in raise_for_write_permissions\n",
      "OSError: Unable to write to download to directory '/media/hieunguyen/HNHD01/TCGA_all_idat/20240619/tumor': [Errno 2] No such file or directory: '/media/hieunguyen/HNHD01/TCGA_all_idat/20240619/tumor/tmpxrz2z8pz'. This error likely occurred because the program was launched from (or specified to download to) a protected directory. If you are running this executable from an archive (*.zip, *.tar.gz, etc.) then extracting it from the archive might solve this problem. Otherwise, please see documentation on how to change/specify directory.\n",
      "\u001b[31mERROR: \u001b[0mExiting\n"
     ]
    },
    {
     "name": "stderr",
     "output_type": "stream",
     "text": [
      "cat: Liver: No such file or directory\n",
      "cat: tumor: No such file or directory\n"
     ]
    },
    {
     "name": "stdout",
     "output_type": "stream",
     "text": [
      "\u001b[31mERROR: \u001b[0mAn unexpected error has occurred during normal operation of the client. Please report the following exception to GDC support <support@nci-gdc.datacommons.io>.\n",
      "\u001b[31mERROR: \u001b[0mUnable to write to download to directory '/media/hieunguyen/HNHD01/TCGA_all_idat/20240619/normal': [Errno 2] No such file or directory: '/media/hieunguyen/HNHD01/TCGA_all_idat/20240619/normal/tmpf_gdq1sq'. This error likely occurred because the program was launched from (or specified to download to) a protected directory. If you are running this executable from an archive (*.zip, *.tar.gz, etc.) then extracting it from the archive might solve this problem. Otherwise, please see documentation on how to change/specify directory.\n",
      "Traceback (most recent call last):\n",
      "  File \"gdc_client-1.6.1-py3.7.egg/gdc_client/parcel/client.py\", line 73, in raise_for_write_permissions\n",
      "  File \"tempfile.py\", line 547, in NamedTemporaryFile\n",
      "  File \"tempfile.py\", line 258, in _mkstemp_inner\n",
      "FileNotFoundError: [Errno 2] No such file or directory: '/media/hieunguyen/HNHD01/TCGA_all_idat/20240619/normal/tmpf_gdq1sq'\n",
      "\n",
      "During handling of the above exception, another exception occurred:\n",
      "\n",
      "Traceback (most recent call last):\n",
      "  File \"gdc-client\", line 103, in <module>\n",
      "  File \"gdc_client-1.6.1-py3.7.egg/gdc_client/download/parser.py\", line 115, in download\n",
      "  File \"gdc_client-1.6.1-py3.7.egg/gdc_client/parcel/client.py\", line 126, in download_files\n",
      "  File \"gdc_client-1.6.1-py3.7.egg/gdc_client/parcel/client.py\", line 86, in raise_for_write_permissions\n",
      "OSError: Unable to write to download to directory '/media/hieunguyen/HNHD01/TCGA_all_idat/20240619/normal': [Errno 2] No such file or directory: '/media/hieunguyen/HNHD01/TCGA_all_idat/20240619/normal/tmpf_gdq1sq'. This error likely occurred because the program was launched from (or specified to download to) a protected directory. If you are running this executable from an archive (*.zip, *.tar.gz, etc.) then extracting it from the archive might solve this problem. Otherwise, please see documentation on how to change/specify directory.\n",
      "\u001b[31mERROR: \u001b[0mExiting\n"
     ]
    },
    {
     "name": "stderr",
     "output_type": "stream",
     "text": [
      "cat: Rectum: No such file or directory\n",
      "cat: normal: No such file or directory\n"
     ]
    },
    {
     "name": "stdout",
     "output_type": "stream",
     "text": [
      "\u001b[31mERROR: \u001b[0mAn unexpected error has occurred during normal operation of the client. Please report the following exception to GDC support <support@nci-gdc.datacommons.io>.\n",
      "\u001b[31mERROR: \u001b[0mUnable to write to download to directory '/media/hieunguyen/HNHD01/TCGA_all_idat/20240619/tumor': [Errno 2] No such file or directory: '/media/hieunguyen/HNHD01/TCGA_all_idat/20240619/tumor/tmpbh4svb_2'. This error likely occurred because the program was launched from (or specified to download to) a protected directory. If you are running this executable from an archive (*.zip, *.tar.gz, etc.) then extracting it from the archive might solve this problem. Otherwise, please see documentation on how to change/specify directory.\n",
      "Traceback (most recent call last):\n",
      "  File \"gdc_client-1.6.1-py3.7.egg/gdc_client/parcel/client.py\", line 73, in raise_for_write_permissions\n",
      "  File \"tempfile.py\", line 547, in NamedTemporaryFile\n",
      "  File \"tempfile.py\", line 258, in _mkstemp_inner\n",
      "FileNotFoundError: [Errno 2] No such file or directory: '/media/hieunguyen/HNHD01/TCGA_all_idat/20240619/tumor/tmpbh4svb_2'\n",
      "\n",
      "During handling of the above exception, another exception occurred:\n",
      "\n",
      "Traceback (most recent call last):\n",
      "  File \"gdc-client\", line 103, in <module>\n",
      "  File \"gdc_client-1.6.1-py3.7.egg/gdc_client/download/parser.py\", line 115, in download\n",
      "  File \"gdc_client-1.6.1-py3.7.egg/gdc_client/parcel/client.py\", line 126, in download_files\n",
      "  File \"gdc_client-1.6.1-py3.7.egg/gdc_client/parcel/client.py\", line 86, in raise_for_write_permissions\n",
      "OSError: Unable to write to download to directory '/media/hieunguyen/HNHD01/TCGA_all_idat/20240619/tumor': [Errno 2] No such file or directory: '/media/hieunguyen/HNHD01/TCGA_all_idat/20240619/tumor/tmpbh4svb_2'. This error likely occurred because the program was launched from (or specified to download to) a protected directory. If you are running this executable from an archive (*.zip, *.tar.gz, etc.) then extracting it from the archive might solve this problem. Otherwise, please see documentation on how to change/specify directory.\n",
      "\u001b[31mERROR: \u001b[0mExiting\n"
     ]
    },
    {
     "name": "stderr",
     "output_type": "stream",
     "text": [
      "cat: Rectum: No such file or directory\n",
      "cat: tumor: No such file or directory\n"
     ]
    },
    {
     "name": "stdout",
     "output_type": "stream",
     "text": [
      "\u001b[33mWARNING: \u001b[0mProcess cancelled by user.\n"
     ]
    },
    {
     "name": "stderr",
     "output_type": "stream",
     "text": [
      "cat: Cervical: No such file or directory\n",
      "cat: normal: No such file or directory\n",
      "cat: Cervical: No such file or directory\n",
      "cat: tumor: No such file or directory\n",
      "cat: Ovary: No such file or directory\n",
      "cat: tumor: No such file or directory\n",
      "cat: Pancreatis: No such file or directory\n",
      "cat: normal: No such file or directory\n",
      "[9224] Failed to execute script pyi_rth_certifi\n",
      "Traceback (most recent call last):\n",
      "  File \"genericpath.py\", line 30, in isfile\n",
      "\n",
      "\n",
      "During handling of the above exception, another exception occurred:\n",
      "\n",
      "Traceback (most recent call last):\n",
      "  File \"PyInstaller/loader/rthooks/pyi_rth_certifi.py\", line 15, in <module>\n",
      "  File \"ssl.py\", line 357, in get_default_verify_paths\n",
      "  File \"genericpath.py\", line 30, in isfile\n",
      "KeyboardInterrupt\n",
      "cat: Pancreatis: No such file or directory\n",
      "cat: tumor: No such file or directory\n",
      "cat: Endometrial: No such file or directory\n",
      "cat: normal: No such file or directory\n",
      "cat: Endometrial: No such file or directory\n",
      "cat: tumor: No such file or directory\n",
      "cat: Colon: No such file or directory\n",
      "cat: normal: No such file or directory\n",
      "cat: Colon: No such file or directory\n",
      "cat: tumor: No such file or directory\n"
     ]
    },
    {
     "name": "stdout",
     "output_type": "stream",
     "text": [
      "\u001b[33mWARNING: \u001b[0mProcess cancelled by user.\n"
     ]
    },
    {
     "name": "stderr",
     "output_type": "stream",
     "text": [
      "cat: Lung: No such file or directory\n",
      "cat: normal: No such file or directory\n",
      "cat: Lung: No such file or directory\n",
      "cat: tumor: No such file or directory\n",
      "cat: Breast: No such file or directory\n",
      "cat: normal: No such file or directory\n",
      "cat: Breast: No such file or directory\n",
      "cat: tumor: No such file or directory\n",
      "cat: Esophageal: No such file or directory\n",
      "cat: normal: No such file or directory\n",
      "[9320] Failed to execute script pyi_rth_pkgres\n",
      "Traceback (most recent call last):\n",
      "  File \"PyInstaller/loader/rthooks/pyi_rth_pkgres.py\", line 11, in <module>\n",
      "  File \"<frozen importlib._bootstrap>\", line 983, in _find_and_load\n",
      "  File \"<frozen importlib._bootstrap>\", line 967, in _find_and_load_unlocked\n",
      "  File \"<frozen importlib._bootstrap>\", line 677, in _load_unlocked\n",
      "  File \"/home/runner/work/gdc-client/gdc-client/bin/venv/lib/python3.7/site-packages/PyInstaller/loader/pyimod03_importers.py\", line 627, in exec_module\n",
      "  File \"pkg_resources/__init__.py\", line 36, in <module>\n",
      "  File \"<frozen importlib._bootstrap>\", line 983, in _find_and_load\n",
      "  File \"<frozen importlib._bootstrap>\", line 967, in _find_and_load_unlocked\n",
      "  File \"<frozen importlib._bootstrap>\", line 677, in _load_unlocked\n",
      "  File \"/home/runner/work/gdc-client/gdc-client/bin/venv/lib/python3.7/site-packages/PyInstaller/loader/pyimod03_importers.py\", line 627, in exec_module\n",
      "  File \"email/parser.py\", line 12, in <module>\n",
      "  File \"<frozen importlib._bootstrap>\", line 983, in _find_and_load\n",
      "  File \"<frozen importlib._bootstrap>\", line 967, in _find_and_load_unlocked\n",
      "  File \"<frozen importlib._bootstrap>\", line 677, in _load_unlocked\n",
      "  File \"/home/runner/work/gdc-client/gdc-client/bin/venv/lib/python3.7/site-packages/PyInstaller/loader/pyimod03_importers.py\", line 627, in exec_module\n",
      "  File \"email/feedparser.py\", line 27, in <module>\n",
      "  File \"<frozen importlib._bootstrap>\", line 983, in _find_and_load\n",
      "  File \"<frozen importlib._bootstrap>\", line 967, in _find_and_load_unlocked\n",
      "  File \"<frozen importlib._bootstrap>\", line 677, in _load_unlocked\n",
      "  File \"/home/runner/work/gdc-client/gdc-client/bin/venv/lib/python3.7/site-packages/PyInstaller/loader/pyimod03_importers.py\", line 627, in exec_module\n",
      "  File \"email/_policybase.py\", line 9, in <module>\n",
      "  File \"<frozen importlib._bootstrap>\", line 983, in _find_and_load\n",
      "  File \"<frozen importlib._bootstrap>\", line 967, in _find_and_load_unlocked\n",
      "  File \"<frozen importlib._bootstrap>\", line 677, in _load_unlocked\n",
      "  File \"/home/runner/work/gdc-client/gdc-client/bin/venv/lib/python3.7/site-packages/PyInstaller/loader/pyimod03_importers.py\", line 627, in exec_module\n",
      "  File \"email/utils.py\", line 28, in <module>\n",
      "  File \"<frozen importlib._bootstrap>\", line 983, in _find_and_load\n",
      "  File \"<frozen importlib._bootstrap>\", line 967, in _find_and_load_unlocked\n",
      "  File \"<frozen importlib._bootstrap>\", line 677, in _load_unlocked\n",
      "  File \"/home/runner/work/gdc-client/gdc-client/bin/venv/lib/python3.7/site-packages/PyInstaller/loader/pyimod03_importers.py\", line 627, in exec_module\n",
      "  File \"random.py\", line 48, in <module>\n",
      "  File \"<frozen importlib._bootstrap>\", line 983, in _find_and_load\n",
      "  File \"<frozen importlib._bootstrap>\", line 967, in _find_and_load_unlocked\n",
      "  File \"<frozen importlib._bootstrap>\", line 677, in _load_unlocked\n",
      "  File \"/home/runner/work/gdc-client/gdc-client/bin/venv/lib/python3.7/site-packages/PyInstaller/loader/pyimod03_importers.py\", line 627, in exec_module\n",
      "  File \"bisect.py\", line 86, in <module>\n",
      "KeyboardInterrupt\n",
      "cat: Esophageal: No such file or directory\n",
      "cat: tumor: No such file or directory\n",
      "cat: Gastric: No such file or directory\n",
      "cat: normal: No such file or directory\n",
      "cat: Gastric: No such file or directory\n",
      "cat: tumor: No such file or directory\n"
     ]
    }
   ],
   "source": [
    "import os\n",
    "import pathlib\n",
    "\n",
    "gdc_client = '/media/hieunguyen/HNSD01/gdc-client'\n",
    "infopath = \"/media/hieunguyen/HNSD01/src/TCGA_data_analysis/TCGA_database_DMR\"\n",
    "savedir = \"/media/hieunguyen/HNHD01/TCGA_all_idat/20240619\"\n",
    "tracking_file = \"/media/hieunguyen/HNSD01/src/TCGA_data_analysis/finished_download_files.txt\"\n",
    "\n",
    "all_idat_folders = [item for item in pathlib.Path(infopath).glob(\"*idat*\")]\n",
    "\n",
    "for folder in all_idat_folders:\n",
    "    label = folder.name.replace(\"_idat\", \"\")\n",
    "    os.system(\"mkdir -p {}\".format(os.path.join(savedir, label, \"tumor\")))\n",
    "    os.system(\"mkdir -p {}\".format(os.path.join(savedir, label, \"normal\")))\n",
    "    \n",
    "    normal_manifest = [item for item in pathlib.Path(folder).glob(\"*manifest*Normal*450K*\")]\n",
    "    tumor_manifest = [item for item in pathlib.Path(folder).glob(\"*manifest*Tumor*450K*\")]\n",
    "    \n",
    "    if len(normal_manifest) == 1:\n",
    "        normal_manifest = normal_manifest[0]\n",
    "        downloaddir = os.path.join(savedir, \"normal\")\n",
    "        os.system(\"{} download --manifest {} --dir {}\".format(gdc_client, str(normal_manifest), downloaddir))\n",
    "        os.system(\"echo {} normal >> {}\".format(label, tracking_file))\n",
    "    if len(tumor_manifest) == 1:\n",
    "        tumor_manifest = tumor_manifest[0]\n",
    "        downloaddir = os.path.join(savedir, \"tumor\")\n",
    "        os.system(\"{} download --manifest {} --dir {}\".format(gdc_client, str(tumor_manifest), downloaddir))\n",
    "        os.system(\"echo {} tumor >> {}\".format(label, tracking_file))"
   ]
  }
 ],
 "metadata": {
  "kernelspec": {
   "display_name": "Python 3 (ipykernel)",
   "language": "python",
   "name": "python3"
  },
  "language_info": {
   "codemirror_mode": {
    "name": "ipython",
    "version": 3
   },
   "file_extension": ".py",
   "mimetype": "text/x-python",
   "name": "python",
   "nbconvert_exporter": "python",
   "pygments_lexer": "ipython3",
   "version": "3.12.2"
  }
 },
 "nbformat": 4,
 "nbformat_minor": 5
}
